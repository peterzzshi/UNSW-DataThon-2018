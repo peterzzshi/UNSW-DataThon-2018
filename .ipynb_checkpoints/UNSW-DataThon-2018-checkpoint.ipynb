{
 "cells": [
  {
   "cell_type": "markdown",
   "metadata": {},
   "source": [
    "============ Datathon INSTRUCTIONS and INFORMATION ============\n",
    "\n",
    "Challenge: SkyHigh Books want to know in 2018 what readers will rate their books that they publish. You are given data from 2017, where you know what readers read and what rating each user provided on average to all books they read.\n",
    "\n",
    "Your job is 4 fold:\n",
    "\n",
    "Predict what readers will rate on average in 2018 on all books they will read in 2017 + 2018. Use the wishlist of books readers want to read in 2018 and what they have already read in 2017 as a starting point. SkyHigh Books wants to know this information, as they want to market directly to readers who either have higher potential average scores on all books, or lower scores.\n",
    "\n",
    "SkyHigh Books wants to know why some books in 2017 or 2018 (predict which books) have good or bad overall ratings. Is it certain words in the book? The genre of the book? The price in 2017 / 2018? Where it was sold? Why do some books on average have a higher rating than other books?\n",
    "\n",
    "SkyHigh Books wants to maintain a good online presence on book review sites (hence we want to predict user averages), and so they want you to tell them how they can lift overall global reader satisifcation (not just each individual user, but overall).\n",
    "\n",
    "Provide confidence bounds on your predictions. How much % are you sure your predictions are true or correct? Is the results plausible? Does the data seem plausible? (Ie do the word count follow some Power Law Distribution?)\n",
    "\n",
    "**Datasets**\n",
    "\n",
    "You are provided with 6 datasets:\n",
    "\n",
    "1. **Books Information**\n",
    "2. **Genres Mapping**\n",
    "3. **User Data**\n",
    "4. **Words in Book**\n",
    "5. **Words Mapping**\n",
    "6. **Example Submissions**\n",
    "\n",
    "------\n",
    "\n",
    "1. **Books Information** Actual info on books. Book ID, Barcode, difficulty (average *perceieved* reading difficulty of book --> 1 = easy, 5 = hard).\n",
    "2. **Genres Mapping** Maps Genre IDs to real Genre types (eg Science)\n",
    "3. **User Data** User's data on average ratings and what they read in 2017 + wishlist for 2018.\n",
    "4. **Words in Book** What are the words in the actual book.\n",
    "5. **Words Mapping** Actual words mapped to word ID\n",
    "6. **Example Submissions** Shows an example of what you need to provide."
   ]
  },
  {
   "cell_type": "code",
   "execution_count": 1,
   "metadata": {
    "collapsed": true
   },
   "outputs": [],
   "source": [
    "import pandas as pd\n",
    "import numpy as np\n",
    "from collections import defaultdict\n",
    "from sklearn import datasets, metrics\n",
    "from sklearn.preprocessing import MultiLabelBinarizer, LabelBinarizer\n",
    "from surprise.model_selection import GridSearchCV\n",
    "from sklearn.model_selection import StratifiedKFold\n",
    "from surprise import SVDpp, Reader, Dataset, accuracy\n",
    "from surprise.model_selection import train_test_split, cross_validate\n",
    "from xgboost import XGBRegressor\n",
    "from xgboost import plot_importance\n",
    "from matplotlib import pyplot\n"
   ]
  },
  {
   "cell_type": "code",
   "execution_count": 2,
   "metadata": {
    "collapsed": true
   },
   "outputs": [],
   "source": [
    "## loading data\n",
    "Books_Information = pd.read_csv('Books information.csv')\n",
    "User_Data = pd.read_csv('User Data.csv')\n",
    "\n",
    "# words_in_book = pd.read_csv('Words in Books Data.csv')\n",
    "# words_map = pd.read_csv('Words Mapping.csv')"
   ]
  },
  {
   "cell_type": "code",
   "execution_count": 23,
   "metadata": {},
   "outputs": [],
   "source": [
    "user_2017 = User_Data.iloc[:, [0, 1, 2, 4]]\n",
    "arr_2017 = [[columns[0], columns[1], int(book), float(columns[3])] for columns in user_2017.values for book in columns[2].split(', ')]\n",
    "user_2017 = pd.DataFrame(arr_2017, columns=user_2017.columns)\n",
    "\n",
    "user_2018 = User_Data.iloc[:, [0, 1, 3]]\n",
    "arr_2018 = [[columns[0], columns[1], int(book)] for columns in user_2018.values for book in columns[2].split(', ')]\n",
    "user_2018 = pd.DataFrame(arr_2018, columns=user_2018.columns)"
   ]
  },
  {
   "cell_type": "code",
   "execution_count": null,
   "metadata": {},
   "outputs": [],
   "source": []
  },
  {
   "cell_type": "code",
   "execution_count": 25,
   "metadata": {},
   "outputs": [],
   "source": [
    "train_df = user_2017.merge(Books_Information, left_on='User Read Books (2017)', right_on='Book ID')\n",
    "test_df = user_2018.merge(Books_Information, left_on='User Read Books (2018)', right_on='Book ID')\n"
   ]
  },
  {
   "cell_type": "code",
   "execution_count": 5,
   "metadata": {},
   "outputs": [],
   "source": [
    "train_df = train_df[[\"User ID\", \"User Difficulty Choice\", \"User Read Books (2017)\", \"Book Genre\", \"Difficulty (Reader suggested)\", \"Number Of Words\", \"Price (2017)\", \"Most Sold At\", \"Number Sold\", \"Average Rating (2017)\"]].rename(columns={'User Read Books (2017)': 'Book', 'Price (2017)': 'Price', 'Average Rating (2017)': \"Rating\"})\n",
    "test_df = test_df[[\"User ID\", \"User Difficulty Choice\", \"User Read Books (2018)\", \"Book Genre\", \"Difficulty (Reader suggested)\", \"Number Of Words\", \"Price (2018)\", \"Most Sold At\", \"Number Sold\"]].rename(columns={'User Read Books (2018)': 'Book', 'Price (2018)': 'Price'})\n"
   ]
  },
  {
   "cell_type": "code",
   "execution_count": 22,
   "metadata": {},
   "outputs": [
    {
     "data": {
      "text/html": [
       "<div>\n",
       "<style>\n",
       "    .dataframe thead tr:only-child th {\n",
       "        text-align: right;\n",
       "    }\n",
       "\n",
       "    .dataframe thead th {\n",
       "        text-align: left;\n",
       "    }\n",
       "\n",
       "    .dataframe tbody tr th {\n",
       "        vertical-align: top;\n",
       "    }\n",
       "</style>\n",
       "<table border=\"1\" class=\"dataframe\">\n",
       "  <thead>\n",
       "    <tr style=\"text-align: right;\">\n",
       "      <th></th>\n",
       "      <th>User ID</th>\n",
       "      <th>User Difficulty Choice</th>\n",
       "      <th>Book</th>\n",
       "      <th>Book Genre</th>\n",
       "      <th>Difficulty (Reader suggested)</th>\n",
       "      <th>Number Of Words</th>\n",
       "      <th>Price</th>\n",
       "      <th>Most Sold At</th>\n",
       "      <th>Number Sold</th>\n",
       "      <th>Rating</th>\n",
       "    </tr>\n",
       "  </thead>\n",
       "  <tbody>\n",
       "    <tr>\n",
       "      <th>0</th>\n",
       "      <td>ID790145788</td>\n",
       "      <td>1</td>\n",
       "      <td>6254</td>\n",
       "      <td>17</td>\n",
       "      <td>2</td>\n",
       "      <td>4522</td>\n",
       "      <td>34.506476</td>\n",
       "      <td>PythonBooks</td>\n",
       "      <td>3262</td>\n",
       "      <td>3.115447</td>\n",
       "    </tr>\n",
       "    <tr>\n",
       "      <th>1</th>\n",
       "      <td>ID523524439</td>\n",
       "      <td>2</td>\n",
       "      <td>6254</td>\n",
       "      <td>17</td>\n",
       "      <td>2</td>\n",
       "      <td>4522</td>\n",
       "      <td>34.506476</td>\n",
       "      <td>PythonBooks</td>\n",
       "      <td>3262</td>\n",
       "      <td>5.934029</td>\n",
       "    </tr>\n",
       "    <tr>\n",
       "      <th>2</th>\n",
       "      <td>ID720659947</td>\n",
       "      <td>4</td>\n",
       "      <td>6254</td>\n",
       "      <td>17</td>\n",
       "      <td>2</td>\n",
       "      <td>4522</td>\n",
       "      <td>34.506476</td>\n",
       "      <td>PythonBooks</td>\n",
       "      <td>3262</td>\n",
       "      <td>4.463691</td>\n",
       "    </tr>\n",
       "    <tr>\n",
       "      <th>3</th>\n",
       "      <td>ID345893462</td>\n",
       "      <td>Not specified</td>\n",
       "      <td>6254</td>\n",
       "      <td>17</td>\n",
       "      <td>2</td>\n",
       "      <td>4522</td>\n",
       "      <td>34.506476</td>\n",
       "      <td>PythonBooks</td>\n",
       "      <td>3262</td>\n",
       "      <td>1.525557</td>\n",
       "    </tr>\n",
       "    <tr>\n",
       "      <th>4</th>\n",
       "      <td>ID714509174</td>\n",
       "      <td>3</td>\n",
       "      <td>6254</td>\n",
       "      <td>17</td>\n",
       "      <td>2</td>\n",
       "      <td>4522</td>\n",
       "      <td>34.506476</td>\n",
       "      <td>PythonBooks</td>\n",
       "      <td>3262</td>\n",
       "      <td>1.226530</td>\n",
       "    </tr>\n",
       "  </tbody>\n",
       "</table>\n",
       "</div>"
      ],
      "text/plain": [
       "       User ID User Difficulty Choice  Book  Book Genre  \\\n",
       "0  ID790145788                      1  6254          17   \n",
       "1  ID523524439                      2  6254          17   \n",
       "2  ID720659947                      4  6254          17   \n",
       "3  ID345893462          Not specified  6254          17   \n",
       "4  ID714509174                      3  6254          17   \n",
       "\n",
       "   Difficulty (Reader suggested)  Number Of Words      Price Most Sold At  \\\n",
       "0                              2             4522  34.506476  PythonBooks   \n",
       "1                              2             4522  34.506476  PythonBooks   \n",
       "2                              2             4522  34.506476  PythonBooks   \n",
       "3                              2             4522  34.506476  PythonBooks   \n",
       "4                              2             4522  34.506476  PythonBooks   \n",
       "\n",
       "   Number Sold    Rating  \n",
       "0         3262  3.115447  \n",
       "1         3262  5.934029  \n",
       "2         3262  4.463691  \n",
       "3         3262  1.525557  \n",
       "4         3262  1.226530  "
      ]
     },
     "execution_count": 22,
     "metadata": {},
     "output_type": "execute_result"
    }
   ],
   "source": [
    "train_df.head()"
   ]
  },
  {
   "cell_type": "code",
   "execution_count": 15,
   "metadata": {},
   "outputs": [
    {
     "data": {
      "text/html": [
       "<div>\n",
       "<style>\n",
       "    .dataframe thead tr:only-child th {\n",
       "        text-align: right;\n",
       "    }\n",
       "\n",
       "    .dataframe thead th {\n",
       "        text-align: left;\n",
       "    }\n",
       "\n",
       "    .dataframe tbody tr th {\n",
       "        vertical-align: top;\n",
       "    }\n",
       "</style>\n",
       "<table border=\"1\" class=\"dataframe\">\n",
       "  <thead>\n",
       "    <tr style=\"text-align: right;\">\n",
       "      <th></th>\n",
       "      <th>User ID</th>\n",
       "      <th>User Difficulty Choice</th>\n",
       "      <th>Book</th>\n",
       "      <th>Book Genre</th>\n",
       "      <th>Difficulty (Reader suggested)</th>\n",
       "      <th>Number Of Words</th>\n",
       "      <th>Price</th>\n",
       "      <th>Most Sold At</th>\n",
       "      <th>Number Sold</th>\n",
       "    </tr>\n",
       "  </thead>\n",
       "  <tbody>\n",
       "    <tr>\n",
       "      <th>0</th>\n",
       "      <td>ID790145788</td>\n",
       "      <td>1</td>\n",
       "      <td>7180</td>\n",
       "      <td>18</td>\n",
       "      <td>1</td>\n",
       "      <td>637</td>\n",
       "      <td>8.067764</td>\n",
       "      <td>DHC-Online</td>\n",
       "      <td>1596</td>\n",
       "    </tr>\n",
       "    <tr>\n",
       "      <th>1</th>\n",
       "      <td>ID675457711</td>\n",
       "      <td>5</td>\n",
       "      <td>7180</td>\n",
       "      <td>18</td>\n",
       "      <td>1</td>\n",
       "      <td>637</td>\n",
       "      <td>8.067764</td>\n",
       "      <td>DHC-Online</td>\n",
       "      <td>1596</td>\n",
       "    </tr>\n",
       "    <tr>\n",
       "      <th>2</th>\n",
       "      <td>ID788479335</td>\n",
       "      <td>3</td>\n",
       "      <td>7180</td>\n",
       "      <td>18</td>\n",
       "      <td>1</td>\n",
       "      <td>637</td>\n",
       "      <td>8.067764</td>\n",
       "      <td>DHC-Online</td>\n",
       "      <td>1596</td>\n",
       "    </tr>\n",
       "    <tr>\n",
       "      <th>3</th>\n",
       "      <td>ID567773609</td>\n",
       "      <td>3</td>\n",
       "      <td>7180</td>\n",
       "      <td>18</td>\n",
       "      <td>1</td>\n",
       "      <td>637</td>\n",
       "      <td>8.067764</td>\n",
       "      <td>DHC-Online</td>\n",
       "      <td>1596</td>\n",
       "    </tr>\n",
       "    <tr>\n",
       "      <th>4</th>\n",
       "      <td>ID677346269</td>\n",
       "      <td>1</td>\n",
       "      <td>7180</td>\n",
       "      <td>18</td>\n",
       "      <td>1</td>\n",
       "      <td>637</td>\n",
       "      <td>8.067764</td>\n",
       "      <td>DHC-Online</td>\n",
       "      <td>1596</td>\n",
       "    </tr>\n",
       "  </tbody>\n",
       "</table>\n",
       "</div>"
      ],
      "text/plain": [
       "       User ID User Difficulty Choice  Book  Book Genre  \\\n",
       "0  ID790145788                      1  7180          18   \n",
       "1  ID675457711                      5  7180          18   \n",
       "2  ID788479335                      3  7180          18   \n",
       "3  ID567773609                      3  7180          18   \n",
       "4  ID677346269                      1  7180          18   \n",
       "\n",
       "   Difficulty (Reader suggested)  Number Of Words     Price Most Sold At  \\\n",
       "0                              1              637  8.067764   DHC-Online   \n",
       "1                              1              637  8.067764   DHC-Online   \n",
       "2                              1              637  8.067764   DHC-Online   \n",
       "3                              1              637  8.067764   DHC-Online   \n",
       "4                              1              637  8.067764   DHC-Online   \n",
       "\n",
       "   Number Sold  \n",
       "0         1596  \n",
       "1         1596  \n",
       "2         1596  \n",
       "3         1596  \n",
       "4         1596  "
      ]
     },
     "execution_count": 15,
     "metadata": {},
     "output_type": "execute_result"
    }
   ],
   "source": [
    "test_df.head()\n"
   ]
  },
  {
   "cell_type": "code",
   "execution_count": null,
   "metadata": {},
   "outputs": [],
   "source": [
    "test_df"
   ]
  },
  {
   "cell_type": "code",
   "execution_count": null,
   "metadata": {
    "scrolled": true
   },
   "outputs": [],
   "source": []
  },
  {
   "cell_type": "code",
   "execution_count": null,
   "metadata": {
    "collapsed": true
   },
   "outputs": [],
   "source": []
  },
  {
   "cell_type": "code",
   "execution_count": null,
   "metadata": {},
   "outputs": [],
   "source": []
  },
  {
   "cell_type": "code",
   "execution_count": null,
   "metadata": {},
   "outputs": [],
   "source": []
  },
  {
   "cell_type": "code",
   "execution_count": null,
   "metadata": {},
   "outputs": [],
   "source": []
  },
  {
   "cell_type": "code",
   "execution_count": null,
   "metadata": {
    "collapsed": true
   },
   "outputs": [],
   "source": []
  },
  {
   "cell_type": "code",
   "execution_count": null,
   "metadata": {
    "collapsed": true
   },
   "outputs": [],
   "source": [
    "algo = SVDpp(n_factors=100,n_epochs=300,lr_all=0.01,reg_all=0.2)\n",
    "algo.fit(trainset)"
   ]
  },
  {
   "cell_type": "code",
   "execution_count": null,
   "metadata": {
    "collapsed": true
   },
   "outputs": [],
   "source": [
    "final_df = user_data[['User ID', 'User Read Books (2017)', 'User Read Books (2018)', 'Average Rating (2017)']]\n",
    "final_ar = [[a[0], (len(a[1].split(', ')) * float(a[3]) + sum([algo.predict(a[0], int(b)).est for b in a[2].split(', ')])) / (len(a[1].split(', ')) + len(a[2].split(', ')))] for a in final_df.values]\n"
   ]
  },
  {
   "cell_type": "code",
   "execution_count": null,
   "metadata": {
    "collapsed": true
   },
   "outputs": [],
   "source": [
    "## user difficulty embedding\n",
    "user_diff_ar = user_data['User Difficulty Choice'].values\n",
    "mlb = MultiLabelBinarizer(classes = [1,2,3,4,5])\n",
    "user_diff_code = mlb.fit_transform([([int(a)]) if a in '12345' else (1,2,3,4,5) for a in user_diff_ar])\n",
    "dic_user_diff = dict(zip(user_data['User ID'].values, user_diff_code))"
   ]
  },
  {
   "cell_type": "code",
   "execution_count": null,
   "metadata": {
    "collapsed": true
   },
   "outputs": [],
   "source": [
    "## book difficulty embedding\n",
    "book_diff_ar = book_info['Difficulty (Reader suggested)'].values\n",
    "mlb = MultiLabelBinarizer(classes = [1,2,3,4,5])\n",
    "book_diff_code = mlb.fit_transform([([int(a)]) for a in book_diff_ar])\n",
    "dic_book_diff = dict(zip(book_info['Book ID'].values, book_diff_code))"
   ]
  },
  {
   "cell_type": "code",
   "execution_count": null,
   "metadata": {
    "collapsed": true
   },
   "outputs": [],
   "source": [
    "## book genre embedding\n",
    "book_genre_ar = book_info['Book Genre'].values\n",
    "mlb = LabelBinarizer()\n",
    "book_genre_code = mlb.fit_transform(book_genre_ar)\n",
    "dic_book_genre = dict(zip(book_info['Book ID'].values, book_genre_code))"
   ]
  },
  {
   "cell_type": "code",
   "execution_count": null,
   "metadata": {
    "collapsed": true
   },
   "outputs": [],
   "source": [
    "## book most sell places embedding\n",
    "book_store_ar = book_info['Most Sold At'].values\n",
    "mlb = LabelBinarizer()\n",
    "book_store_code = mlb.fit_transform(book_store_ar)\n",
    "dic_book_store = dict(zip(book_info['Book ID'].values, book_store_code))"
   ]
  },
  {
   "cell_type": "code",
   "execution_count": null,
   "metadata": {
    "collapsed": true
   },
   "outputs": [],
   "source": []
  },
  {
   "cell_type": "code",
   "execution_count": null,
   "metadata": {
    "collapsed": true
   },
   "outputs": [],
   "source": [
    "## book words embedding\n",
    "book_words_ar = words_in_book['Words in Book'].values\n",
    "mlb = MultiLabelBinarizer()\n",
    "book_words_code = mlb.fit_transform([a.split('|') for a in book_words_ar])\n",
    "dic_book_words = dict(zip(words_in_book['Book ID'].values, book_words_code))a"
   ]
  },
  {
   "cell_type": "code",
   "execution_count": null,
   "metadata": {
    "collapsed": true
   },
   "outputs": [],
   "source": [
    "## second model and training\n",
    "# X_train = [np.concatenate((user_latent[algo.trainset.to_inner_uid(a[0])], book_latent[algo.trainset.to_inner_iid(a[1])], dic_user_diff[a[0]], dic_book_diff[a[1]], dic_book_genre[a[1]], dic_book_store[a[1]])) for a in user_book_rate.values]\n",
    "X_train = [np.concatenate((dic_user_diff[a[0]], dic_book_diff[a[1]], dic_book_genre[a[1]], dic_book_store[a[1]])) for a in user_book_rate.values]\n",
    "# X_train = pd.DataFrame(X_train, columns=['user_id_'+str(a) for a in range(3)] + ['book_id_'+str(a) for a in range(3)] +  ['dic_user_diff_'+str(a) for a in range(1,6)] + ['dic_book_diff_'+str(a) for a in range(1,6)] + ['dic_book_genre_'+str(a) for a in range(31)] + ['store_'+str(a) for a in range(1,6)])\n",
    "y_train = [a[2]-algo.predict(a[0], a[1]).est for a in user_book_rate.values]"
   ]
  },
  {
   "cell_type": "code",
   "execution_count": null,
   "metadata": {
    "collapsed": true
   },
   "outputs": [],
   "source": [
    "model = XGBRegressor()\n",
    "model.fit(X_train, y_train)"
   ]
  },
  {
   "cell_type": "code",
   "execution_count": null,
   "metadata": {
    "collapsed": true
   },
   "outputs": [],
   "source": [
    "y_pred = model.predict(X_train)\n",
    "accuracy = metrics.r2_score(y_train, y_pred)"
   ]
  },
  {
   "cell_type": "code",
   "execution_count": null,
   "metadata": {
    "collapsed": true
   },
   "outputs": [],
   "source": [
    "## predict of second model\n",
    "# X_test = [np.concatenate((user_latent[algo.trainset.to_inner_uid(a[0])], book_latent[algo.trainset.to_inner_iid(a[1])], dic_user_diff[a[0]], dic_book_diff[a[1]], dic_book_genre[a[1]], dic_book_store[a[1]])) for a in test_ar]\n",
    "X_test = [np.concatenate((dic_user_diff[a[0]], dic_book_diff[a[1]], dic_book_genre[a[1]], dic_book_store[a[1]])) for a in test_ar]\n",
    "y_pred_new = model.predict(X_test)\n",
    "dic_con = defaultdict(dict)\n",
    "for i in range(len(test_ar)):\n",
    "    dic_con[test_ar[i][0]][test_ar[i][1]] = y_pred_new[i]"
   ]
  },
  {
   "cell_type": "code",
   "execution_count": null,
   "metadata": {
    "collapsed": true
   },
   "outputs": [],
   "source": [
    "## final result of first model\n",
    "final_df_2 = user_data[['User ID', 'User Read Books (2017)', 'User Read Books (2018)', 'Average Rating (2017)']]\n",
    "final_ar_2 = [[a[0], (len(a[1].split(', ')) * float(a[3]) + sum([algo.predict(a[0], int(b)).est+dic_con[a[0]][int(b)] for b in a[2].split(', ')])) / (len(a[1].split(', ')) + len(a[2].split(', ')))] for a in final_df_2.values]\n",
    "rel = pd.DataFrame(final_ar_2, columns=['User ID', 'Average Rating (2018)'])"
   ]
  }
 ],
 "metadata": {
  "kernelspec": {
   "display_name": "Python 3",
   "language": "python",
   "name": "python3"
  },
  "language_info": {
   "codemirror_mode": {
    "name": "ipython",
    "version": 3
   },
   "file_extension": ".py",
   "mimetype": "text/x-python",
   "name": "python",
   "nbconvert_exporter": "python",
   "pygments_lexer": "ipython3",
   "version": "3.6.3"
  }
 },
 "nbformat": 4,
 "nbformat_minor": 2
}
